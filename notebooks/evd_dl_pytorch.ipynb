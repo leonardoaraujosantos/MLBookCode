{
 "cells": [
  {
   "cell_type": "markdown",
   "metadata": {},
   "source": [
    "# Evidential Deep Learning with Pytorch\n",
    "This example will implement the paper \"Evidential Deep Learning to Quantify Classification Uncertainty\" on Pytorch.\n",
    "#### References\n",
    "* [Baseline MNIST train with Pytorch](https://nextjournal.com/gkoehler/pytorch-mnist)"
   ]
  },
  {
   "cell_type": "code",
   "execution_count": 1,
   "metadata": {},
   "outputs": [
    {
     "name": "stdout",
     "output_type": "stream",
     "text": [
      "Device: cpu\n",
      "Pytorch version: 1.4.0\n"
     ]
    }
   ],
   "source": [
    "import mnist_data_pytorch as data\n",
    "import evd_losses as evd_loss\n",
    "import scipy.ndimage as nd\n",
    "import torch\n",
    "import torch.nn as nn\n",
    "import torch.optim as optim\n",
    "import torch.nn.functional as F\n",
    "import numpy as np\n",
    "from tqdm import tqdm\n",
    "device = torch.device(\"cuda:0\" if torch.cuda.is_available() else \"cpu\")\n",
    "print('Device:', device)\n",
    "print('Pytorch version:', torch.__version__)\n",
    "# Tensorboard\n",
    "from torch.utils.tensorboard import SummaryWriter\n",
    "!rm -rf ../runs\n",
    "writer = SummaryWriter('./runs/train')\n",
    "\n",
    "# Metaparameters\n",
    "num_epochs = 25\n",
    "num_classes = 10"
   ]
  },
  {
   "cell_type": "markdown",
   "metadata": {},
   "source": [
    "#### Some helper functions"
   ]
  },
  {
   "cell_type": "code",
   "execution_count": 2,
   "metadata": {},
   "outputs": [],
   "source": [
    "def one_hot(labels, num_classes=10):\n",
    "    \"\"\"\n",
    "    Convert labels to one_hot_encoding\n",
    "    \"\"\"\n",
    "    # Convert to One Hot Encoding\n",
    "    y = torch.eye(num_classes)\n",
    "    return y[labels]\n",
    "\n",
    "def rotate_img(x, deg):\n",
    "    \"\"\"\n",
    "    Rotate image (used to test uncertainty)\n",
    "    \"\"\"\n",
    "    return nd.rotate(x.reshape(28, 28), deg, reshape=False).ravel()"
   ]
  },
  {
   "cell_type": "markdown",
   "metadata": {},
   "source": [
    "#### Define Model"
   ]
  },
  {
   "cell_type": "code",
   "execution_count": 3,
   "metadata": {},
   "outputs": [],
   "source": [
    "class LeNet(nn.Module):\n",
    "    def __init__(self, dropout=False, num_classes=10):\n",
    "        super().__init__()\n",
    "        self.use_dropout = dropout\n",
    "        self.num_classes = num_classes\n",
    "        self.conv1 = nn.Conv2d(1, 20, kernel_size=5)\n",
    "        self.conv2 = nn.Conv2d(20, 50, kernel_size=5)\n",
    "        self.fc1 = nn.Linear(20000, 500)\n",
    "        self.fc2 = nn.Linear(500, 10)\n",
    "\n",
    "    def forward(self, x):\n",
    "        x = F.relu(F.max_pool2d(self.conv1(x), 1))\n",
    "        x = F.relu(F.max_pool2d(self.conv2(x), 1))\n",
    "        x = x.view(x.size()[0], -1)\n",
    "        x = F.relu(self.fc1(x))\n",
    "        if self.use_dropout:\n",
    "            x = F.dropout(x, training=self.training)\n",
    "        \n",
    "        # logits (positive or negative numbers)\n",
    "        logits = self.fc2(x)\n",
    "        # Changes\n",
    "        evidence = F.relu(logits)\n",
    "        alpha = evidence + 1\n",
    "        uncertainty = self.num_classes / torch.sum(alpha, dim=1, keepdim=True)\n",
    "        return logits, evidence, alpha, uncertainty\n",
    "\n",
    "model = LeNet()\n",
    "#writer.add_graph(model, X.unsqueeze(0))\n",
    "model = model.to(device)"
   ]
  },
  {
   "cell_type": "markdown",
   "metadata": {},
   "source": [
    "#### Define Loss Function"
   ]
  },
  {
   "cell_type": "code",
   "execution_count": 4,
   "metadata": {},
   "outputs": [],
   "source": [
    "criterion = evd_loss.edl_mse_loss"
   ]
  },
  {
   "cell_type": "markdown",
   "metadata": {},
   "source": [
    "#### Define Optimizer and Learning Rate Scheduler"
   ]
  },
  {
   "cell_type": "code",
   "execution_count": 5,
   "metadata": {},
   "outputs": [],
   "source": [
    "optimizer = optim.Adam(model.parameters(), lr=1e-3, weight_decay=0.005)\n",
    "scheduler = optim.lr_scheduler.StepLR(optimizer, step_size=7, gamma=0.1)"
   ]
  },
  {
   "cell_type": "markdown",
   "metadata": {},
   "source": [
    "#### Train Model"
   ]
  },
  {
   "cell_type": "code",
   "execution_count": null,
   "metadata": {},
   "outputs": [
    {
     "name": "stdout",
     "output_type": "stream",
     "text": [
      "Epoch 0/24\n",
      "----------\n"
     ]
    }
   ],
   "source": [
    "model.train() \n",
    "for epoch in range(num_epochs):\n",
    "    print(\"Epoch {}/{}\".format(epoch, num_epochs - 1))\n",
    "    print(\"-\" * 10)\n",
    "    running_loss = 0.0\n",
    "    running_corrects = 0.0\n",
    "    correct = 0\n",
    "    # Iterate over the data\n",
    "    for idx_sample, (inputs, labels) in enumerate(data.dataloaders['train']):\n",
    "        inputs = inputs.to(device)\n",
    "        labels = labels.to(device)\n",
    "        # zero the parameter gradients\n",
    "        optimizer.zero_grad()\n",
    "        # Convert y to one-hot and send to GPU\n",
    "        y = one_hot(labels)\n",
    "        y = y.to(device)\n",
    "        logits, evidence, alpha, uncertainty = model(inputs)\n",
    "        _, preds = torch.max(logits, 1)\n",
    "        # Calculate loss\n",
    "        loss = criterion(logits, y.float(), evidence, alpha, epoch, num_classes, 10, device)\n",
    "\n",
    "        match = torch.reshape(torch.eq(preds, labels).float(), (-1, 1))\n",
    "        acc = torch.mean(match)\n",
    "\n",
    "        total_evidence = torch.sum(evidence, 1, keepdim=True)\n",
    "        mean_evidence = torch.mean(total_evidence)\n",
    "        mean_evidence_succ = torch.sum(torch.sum(evidence, 1, keepdim=True) * match) / torch.sum(match + 1e-20)\n",
    "        mean_evidence_fail = torch.sum(torch.sum(evidence, 1, keepdim=True) * (1 - match)) / (torch.sum(torch.abs(1 - match)) + 1e-20)\n",
    "        \n",
    "        loss.backward()\n",
    "        optimizer.step()\n",
    "    # \n",
    "    # statistics\n",
    "    running_loss += loss.item() * inputs.size(0)\n",
    "    running_corrects += torch.sum(preds == labels.data)\n",
    "    scheduler.step()\n",
    "    epoch_loss = running_loss / len(data.dataloaders['train'].dataset)\n",
    "    epoch_acc = running_corrects.double() / len(data.dataloaders['train'].dataset)\n",
    "    \n",
    "    losses[\"loss\"].append(epoch_loss)\n",
    "    losses[\"phase\"].append(phase)\n",
    "    losses[\"epoch\"].append(epoch)\n",
    "    accuracy[\"accuracy\"].append(epoch_acc.item())\n",
    "    accuracy[\"epoch\"].append(epoch)\n",
    "    accuracy[\"phase\"].append(phase)\n",
    "\n",
    "    print(\"{} loss: {:.4f} acc: {:.4f}\".format(\n",
    "        phase.capitalize(), epoch_loss, epoch_acc))"
   ]
  },
  {
   "cell_type": "code",
   "execution_count": null,
   "metadata": {},
   "outputs": [],
   "source": []
  }
 ],
 "metadata": {
  "kernelspec": {
   "display_name": "Python 3",
   "language": "python",
   "name": "python3"
  },
  "language_info": {
   "codemirror_mode": {
    "name": "ipython",
    "version": 3
   },
   "file_extension": ".py",
   "mimetype": "text/x-python",
   "name": "python",
   "nbconvert_exporter": "python",
   "pygments_lexer": "ipython3",
   "version": "3.7.6"
  }
 },
 "nbformat": 4,
 "nbformat_minor": 4
}
