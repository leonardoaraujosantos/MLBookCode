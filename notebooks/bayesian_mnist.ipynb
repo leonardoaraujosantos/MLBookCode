{
 "cells": [
  {
   "cell_type": "markdown",
   "metadata": {},
   "source": [
    "# Bayesian MNIST CNN\n",
    "This notebook will train a vanilla classifier and a Bayesian one.\n",
    "\n",
    "#### References\n",
    "* [Bayesian CNN with Tensorflow](https://medium.com/python-experiments/bayesian-cnn-model-on-mnist-data-using-tensorflow-probability-compared-to-cnn-82d56a298f45)\n",
    "* [Tensorflow CNN](https://www.tensorflow.org/tutorials/images/cnn)\n",
    "* [Tensorflow Probability Sample](https://github.com/tensorflow/probability/blob/master/tensorflow_probability/examples/bayesian_neural_network.py)\n",
    "* [Sample but with Issue](https://github.com/tensorflow/probability/issues/511)"
   ]
  },
  {
   "cell_type": "code",
   "execution_count": 92,
   "metadata": {},
   "outputs": [
    {
     "name": "stdout",
     "output_type": "stream",
     "text": [
      "Tensorflow version: 2.1.0 eagerMode: True\n",
      "GPU available: False\n",
      "Num GPUs Available:  0\n"
     ]
    }
   ],
   "source": [
    "import numpy as np\n",
    "import tensorflow as tf\n",
    "import tensorflow_probability as tfp\n",
    "import seaborn as sns\n",
    "import matplotlib.pyplot as plt\n",
    "from matplotlib import figure\n",
    "import datetime\n",
    "import os\n",
    "from tensorflow import keras\n",
    "EPOCHS = 5\n",
    "BATCH_SIZE = 64\n",
    "\n",
    "print('Tensorflow version:', tf.__version__, 'eagerMode:', tf.executing_eagerly())\n",
    "print('GPU available:', tf.test.is_gpu_available())\n",
    "num_gpus = len(tf.config.experimental.list_physical_devices('GPU'))\n",
    "print(\"Num GPUs Available: \", num_gpus)\n",
    "global_batch_size = (BATCH_SIZE * num_gpus)\n",
    "\n",
    "!rm -rf logs\n",
    "!rm -rf checkpoints"
   ]
  },
  {
   "cell_type": "markdown",
   "metadata": {},
   "source": [
    "#### Load MNIST data"
   ]
  },
  {
   "cell_type": "code",
   "execution_count": 93,
   "metadata": {},
   "outputs": [
    {
     "name": "stdout",
     "output_type": "stream",
     "text": [
      "(60000, 28, 28, 1)\n"
     ]
    }
   ],
   "source": [
    "(x_train, y_train), (x_test, y_test) = keras.datasets.mnist.load_data()\n",
    "x_train = x_train.astype('float32') / 255\n",
    "x_test = x_test.astype('float32') / 255\n",
    "\n",
    "# Add a channels dimension\n",
    "x_train = x_train[..., tf.newaxis]\n",
    "x_test = x_test[..., tf.newaxis]\n",
    "\n",
    "print(x_train.shape)"
   ]
  },
  {
   "cell_type": "markdown",
   "metadata": {},
   "source": [
    "#### Baseline Model MLP\n",
    "Accuracy around 97%"
   ]
  },
  {
   "cell_type": "code",
   "execution_count": 94,
   "metadata": {},
   "outputs": [
    {
     "name": "stdout",
     "output_type": "stream",
     "text": [
      "Model: \"sequential_20\"\n",
      "_________________________________________________________________\n",
      "Layer (type)                 Output Shape              Param #   \n",
      "=================================================================\n",
      "flatten_11 (Flatten)         (None, 784)               0         \n",
      "_________________________________________________________________\n",
      "dense_10 (Dense)             (None, 64)                50240     \n",
      "_________________________________________________________________\n",
      "dense_11 (Dense)             (None, 64)                4160      \n",
      "_________________________________________________________________\n",
      "dense_12 (Dense)             (None, 10)                650       \n",
      "=================================================================\n",
      "Total params: 55,050\n",
      "Trainable params: 55,050\n",
      "Non-trainable params: 0\n",
      "_________________________________________________________________\n",
      "Train on 48000 samples, validate on 12000 samples\n",
      "Epoch 1/5\n",
      "48000/48000 [==============================] - 2s 42us/sample - loss: 0.3545 - accuracy: 0.8991 - val_loss: 0.2034 - val_accuracy: 0.9404\n",
      "Epoch 2/5\n",
      "48000/48000 [==============================] - 1s 31us/sample - loss: 0.1664 - accuracy: 0.9507 - val_loss: 0.1406 - val_accuracy: 0.9589\n",
      "Epoch 3/5\n",
      "48000/48000 [==============================] - 1s 30us/sample - loss: 0.1184 - accuracy: 0.9637 - val_loss: 0.1188 - val_accuracy: 0.9644\n",
      "Epoch 4/5\n",
      "48000/48000 [==============================] - 1s 31us/sample - loss: 0.0938 - accuracy: 0.9716 - val_loss: 0.1039 - val_accuracy: 0.9688\n",
      "Epoch 5/5\n",
      "48000/48000 [==============================] - 1s 31us/sample - loss: 0.0764 - accuracy: 0.9766 - val_loss: 0.1008 - val_accuracy: 0.9702\n"
     ]
    }
   ],
   "source": [
    "# Notice that we don't need to care about the batch_size and also we don't need\n",
    "# to calculate the layer input sizes\n",
    "model = keras.Sequential([\n",
    "    keras.layers.Flatten(input_shape=(28, 28, 1)),\n",
    "    keras.layers.Dense(64, input_shape=(784,), activation='relu'),\n",
    "    keras.layers.Dense(64, activation='relu'),\n",
    "    keras.layers.Dense(10, activation='softmax')\n",
    "])\n",
    "\n",
    "model.summary()\n",
    "\n",
    "model.compile(loss='sparse_categorical_crossentropy',\n",
    "              optimizer=keras.optimizers.RMSprop(),\n",
    "              metrics=['accuracy'])\n",
    "\n",
    "# Train\n",
    "log_dir=\"logs_baseline/fit/\" + datetime.datetime.now().strftime(\"%Y%m%d-%H%M%S\")\n",
    "tensorboard_callback = tf.keras.callbacks.TensorBoard(log_dir=log_dir, histogram_freq=1)\n",
    "history = model.fit(x_train, y_train,\n",
    "                    batch_size=64,\n",
    "                    epochs=5,\n",
    "                    validation_split=0.2,\n",
    "                    callbacks=[tensorboard_callback])\n",
    "\n"
   ]
  },
  {
   "cell_type": "markdown",
   "metadata": {},
   "source": [
    "#### CNN Model\n",
    "Accuracy around 99%"
   ]
  },
  {
   "cell_type": "code",
   "execution_count": 95,
   "metadata": {},
   "outputs": [
    {
     "name": "stdout",
     "output_type": "stream",
     "text": [
      "Model: \"sequential_21\"\n",
      "_________________________________________________________________\n",
      "Layer (type)                 Output Shape              Param #   \n",
      "=================================================================\n",
      "conv2d_6 (Conv2D)            (None, 26, 26, 32)        320       \n",
      "_________________________________________________________________\n",
      "max_pooling2d_18 (MaxPooling (None, 13, 13, 32)        0         \n",
      "_________________________________________________________________\n",
      "conv2d_7 (Conv2D)            (None, 11, 11, 64)        18496     \n",
      "_________________________________________________________________\n",
      "max_pooling2d_19 (MaxPooling (None, 5, 5, 64)          0         \n",
      "_________________________________________________________________\n",
      "conv2d_8 (Conv2D)            (None, 3, 3, 64)          36928     \n",
      "_________________________________________________________________\n",
      "flatten_12 (Flatten)         (None, 576)               0         \n",
      "_________________________________________________________________\n",
      "dense_13 (Dense)             (None, 64)                36928     \n",
      "_________________________________________________________________\n",
      "dense_14 (Dense)             (None, 10)                650       \n",
      "=================================================================\n",
      "Total params: 93,322\n",
      "Trainable params: 93,322\n",
      "Non-trainable params: 0\n",
      "_________________________________________________________________\n",
      "Train on 48000 samples, validate on 12000 samples\n",
      "Epoch 1/5\n",
      "48000/48000 [==============================] - 6s 125us/sample - loss: 0.1947 - accuracy: 0.9387 - val_loss: 0.0656 - val_accuracy: 0.9813\n",
      "Epoch 2/5\n",
      "48000/48000 [==============================] - 5s 109us/sample - loss: 0.0529 - accuracy: 0.9836 - val_loss: 0.0464 - val_accuracy: 0.9862\n",
      "Epoch 3/5\n",
      "48000/48000 [==============================] - 5s 107us/sample - loss: 0.0356 - accuracy: 0.9891 - val_loss: 0.0395 - val_accuracy: 0.9881\n",
      "Epoch 4/5\n",
      "48000/48000 [==============================] - 5s 107us/sample - loss: 0.0269 - accuracy: 0.9916 - val_loss: 0.0399 - val_accuracy: 0.9889\n",
      "Epoch 5/5\n",
      "48000/48000 [==============================] - 5s 109us/sample - loss: 0.0201 - accuracy: 0.9940 - val_loss: 0.0405 - val_accuracy: 0.9898\n"
     ]
    }
   ],
   "source": [
    "model = keras.Sequential([\n",
    "    keras.layers.Conv2D(32, (3, 3), activation='relu', input_shape=(28, 28, 1)),\n",
    "    keras.layers.MaxPooling2D((2, 2)),\n",
    "    keras.layers.Conv2D(64, (3, 3), activation='relu'),\n",
    "    keras.layers.MaxPooling2D((2, 2)),\n",
    "    keras.layers.Conv2D(64, (3, 3), activation='relu'),\n",
    "    keras.layers.Flatten(),\n",
    "    #keras.layers.Dropout(0.2),\n",
    "    keras.layers.Dense(64, activation='relu'),\n",
    "    keras.layers.Dense(10, activation='softmax')\n",
    "])\n",
    "\n",
    "model.summary()\n",
    "\n",
    "model.compile(loss='sparse_categorical_crossentropy',\n",
    "              optimizer=keras.optimizers.RMSprop(),\n",
    "              metrics=['accuracy'])\n",
    "\n",
    "# Train\n",
    "log_dir=\"logs_cnn/fit/\" + datetime.datetime.now().strftime(\"%Y%m%d-%H%M%S\")\n",
    "tensorboard_callback = tf.keras.callbacks.TensorBoard(log_dir=log_dir, histogram_freq=1)\n",
    "history = model.fit(x_train, y_train,\n",
    "                    batch_size=64,\n",
    "                    epochs=5,\n",
    "                    validation_split=0.2,\n",
    "                    callbacks=[tensorboard_callback])"
   ]
  },
  {
   "cell_type": "markdown",
   "metadata": {},
   "source": [
    "#### Using Tensorflow Probability"
   ]
  },
  {
   "cell_type": "code",
   "execution_count": 96,
   "metadata": {},
   "outputs": [
    {
     "name": "stdout",
     "output_type": "stream",
     "text": [
      "Model: \"sequential_22\"\n",
      "_________________________________________________________________\n",
      "Layer (type)                 Output Shape              Param #   \n",
      "=================================================================\n",
      "conv2d_reparameterization_21 (None, 26, 26, 32)        608       \n",
      "_________________________________________________________________\n",
      "max_pooling2d_20 (MaxPooling (None, 13, 13, 32)        0         \n",
      "_________________________________________________________________\n",
      "conv2d_reparameterization_22 (None, 11, 11, 64)        36928     \n",
      "_________________________________________________________________\n",
      "max_pooling2d_21 (MaxPooling (None, 5, 5, 64)          0         \n",
      "_________________________________________________________________\n",
      "conv2d_reparameterization_23 (None, 3, 3, 64)          73792     \n",
      "_________________________________________________________________\n",
      "flatten_13 (Flatten)         (None, 576)               0         \n",
      "_________________________________________________________________\n",
      "dense_flipout_14 (DenseFlipo (None, 64)                73792     \n",
      "_________________________________________________________________\n",
      "dense_flipout_15 (DenseFlipo (None, 10)                1290      \n",
      "=================================================================\n",
      "Total params: 186,410\n",
      "Trainable params: 186,410\n",
      "Non-trainable params: 0\n",
      "_________________________________________________________________\n",
      "Train on 48000 samples, validate on 12000 samples\n",
      "Epoch 1/5\n",
      "48000/48000 [==============================] - 8s 161us/sample - loss: 35.7501 - accuracy: 0.8637 - val_loss: 31.5121 - val_accuracy: 0.9528\n",
      "Epoch 2/5\n",
      "48000/48000 [==============================] - 6s 132us/sample - loss: 27.7222 - accuracy: 0.9536 - val_loss: 24.1390 - val_accuracy: 0.9542\n",
      "Epoch 3/5\n",
      "48000/48000 [==============================] - 7s 137us/sample - loss: 21.0578 - accuracy: 0.9502 - val_loss: 18.1677 - val_accuracy: 0.9508\n",
      "Epoch 4/5\n",
      "48000/48000 [==============================] - 6s 135us/sample - loss: 15.7401 - accuracy: 0.9447 - val_loss: 13.4440 - val_accuracy: 0.9440\n",
      "Epoch 5/5\n",
      "48000/48000 [==============================] - 7s 136us/sample - loss: 11.4754 - accuracy: 0.9380 - val_loss: 9.6403 - val_accuracy: 0.9403\n"
     ]
    }
   ],
   "source": [
    "NUM_TRAIN_EXAMPLES = 6000\n",
    "kl_divergence_function = (lambda q, p, _: tfp.distributions.kl_divergence(q, p) /  # pylint: disable=g-long-lambda\n",
    "                            tf.cast(NUM_TRAIN_EXAMPLES, dtype=tf.float32))\n",
    "\n",
    "model = keras.Sequential([\n",
    "    tfp.layers.Convolution2DReparameterization(32, (3,3), activation='relu', input_shape=(28, 28, 1), kernel_divergence_fn=kl_divergence_function), \n",
    "    keras.layers.MaxPooling2D((2, 2)),\n",
    "    tfp.layers.Convolution2DReparameterization(64, (3, 3), activation='relu', kernel_divergence_fn=kl_divergence_function),\n",
    "    keras.layers.MaxPooling2D((2, 2)),\n",
    "    tfp.layers.Convolution2DReparameterization(64, (3, 3), activation='relu', kernel_divergence_fn=kl_divergence_function),\n",
    "    keras.layers.Flatten(),\n",
    "    tfp.layers.DenseFlipout(64, activation='relu', kernel_divergence_fn=kl_divergence_function),\n",
    "    tfp.layers.DenseFlipout(10, activation='softmax', kernel_divergence_fn=kl_divergence_function)\n",
    "])\n",
    "\n",
    "model.summary()\n",
    "\n",
    "def neg_log_likelihood_bayesian(y_true, y_pred):\n",
    "            labels_distribution = tfp.distributions.Categorical(logits=y_pred)\n",
    "            log_likelihood = labels_distribution.log_prob(tf.argmax(input=y_true, axis=1))\n",
    "            loss = -tf.reduce_mean(input_tensor=log_likelihood)\n",
    "            return loss\n",
    "\n",
    "model.compile(loss='sparse_categorical_crossentropy',#neg_log_likelihood_bayesian,\n",
    "              optimizer=keras.optimizers.RMSprop(),\n",
    "              metrics=['accuracy'], experimental_run_tf_function=False)\n",
    "\n",
    "# Train\n",
    "log_dir=\"logs_cnn_bayesian/fit/\" + datetime.datetime.now().strftime(\"%Y%m%d-%H%M%S\")\n",
    "tensorboard_callback = tf.keras.callbacks.TensorBoard(log_dir=log_dir, histogram_freq=1)\n",
    "history = model.fit(x_train, y_train,\n",
    "                    batch_size=64,\n",
    "                    epochs=5,\n",
    "                    validation_split=0.2,\n",
    "                    callbacks=[tensorboard_callback])"
   ]
  },
  {
   "cell_type": "code",
   "execution_count": 102,
   "metadata": {},
   "outputs": [
    {
     "name": "stdout",
     "output_type": "stream",
     "text": [
      "Sample shape: (28, 28, 1)\n"
     ]
    },
    {
     "data": {
      "image/png": "[encoded data removed]",
      "text/plain": [
       "<Figure size 432x288 with 1 Axes>"
      ]
     },
     "metadata": {
      "needs_background": "light"
     },
     "output_type": "display_data"
    }
   ],
   "source": [
    "sample = x_train[0]\n",
    "print('Sample shape:', sample.shape)\n",
    "plt.imshow(sample.squeeze(axis=2))\n",
    "plt.show()"
   ]
  },
  {
   "cell_type": "code",
   "execution_count": 98,
   "metadata": {},
   "outputs": [],
   "source": [
    "#predictions = [np.argmax(model(tf.expand_dims(sample, axis=0)).numpy()) for i in range(100)]\n",
    "#predictions = [model(tf.expand_dims(sample, axis=0)).numpy() for i in range(100)]\n",
    "#predictions = [probability_model(tf.expand_dims(x_train[0], axis=0)).numpy() for i in range(100)]"
   ]
  },
  {
   "cell_type": "markdown",
   "metadata": {},
   "source": [
    "#### Monte Carlo Inference\n",
    "The probabilistic model will give different results for each "
   ]
  },
  {
   "cell_type": "code",
   "execution_count": 99,
   "metadata": {},
   "outputs": [],
   "source": [
    "# Convert logits to probabilities\n",
    "probability_model = tf.keras.Sequential([model, tf.keras.layers.Softmax()])\n",
    "probabilities = [probability_model(tf.expand_dims(sample, axis=0)).numpy() for i in range(100)]"
   ]
  },
  {
   "cell_type": "code",
   "execution_count": 100,
   "metadata": {},
   "outputs": [
    {
     "name": "stderr",
     "output_type": "stream",
     "text": [
      "/mnt/anaconda3/lib/python3.7/site-packages/ipykernel_launcher.py:10: UserWarning: tight_layout : falling back to Agg renderer\n",
      "  # Remove the CWD from sys.path while we load stuff.\n"
     ]
    },
    {
     "data": {
      "image/png": "[encoded data removed]",
      "text/plain": [
       "<Figure size 720x360 with 2 Axes>"
      ]
     },
     "execution_count": 100,
     "metadata": {},
     "output_type": "execute_result"
    }
   ],
   "source": [
    "fig = figure.Figure(figsize=(10, 5))\n",
    "ax = fig.add_subplot(1, 3, 1)\n",
    "ax.imshow(sample.squeeze(axis=2), interpolation='None')\n",
    "ax = fig.add_subplot(1, 3, 2)\n",
    "for prob in probabilities:\n",
    "    sns.barplot(np.arange(10), prob[0, :], alpha=0.1, ax=ax)\n",
    "    ax.set_ylim([0, 1])\n",
    "ax.set_title('posterior samples');\n",
    "\n",
    "fig.tight_layout()\n",
    "fig"
   ]
  },
  {
   "cell_type": "code",
   "execution_count": 110,
   "metadata": {},
   "outputs": [
    {
     "name": "stdout",
     "output_type": "stream",
     "text": [
      "Sample shape: (28, 28, 1)\n"
     ]
    },
    {
     "data": {
      "image/png": "[encoded data removed]",
      "text/plain": [
       "<Figure size 432x288 with 1 Axes>"
      ]
     },
     "metadata": {
      "needs_background": "light"
     },
     "output_type": "display_data"
    }
   ],
   "source": [
    "from PIL import Image\n",
    "sample = np.asarray(Image.open(\"BabyYoda_small.jpg\").convert('L'))\n",
    "plt.imshow(sample)\n",
    "sample = np.expand_dims(sample, axis=2).astype(np.float32)\n",
    "print('Sample shape:', sample.shape)"
   ]
  },
  {
   "cell_type": "code",
   "execution_count": 111,
   "metadata": {},
   "outputs": [],
   "source": [
    "# Convert logits to probabilities\n",
    "probability_model = tf.keras.Sequential([model, tf.keras.layers.Softmax()])\n",
    "probabilities = [probability_model(tf.expand_dims(sample, axis=0)).numpy() for i in range(100)]"
   ]
  },
  {
   "cell_type": "code",
   "execution_count": 112,
   "metadata": {},
   "outputs": [
    {
     "name": "stderr",
     "output_type": "stream",
     "text": [
      "/mnt/anaconda3/lib/python3.7/site-packages/ipykernel_launcher.py:10: UserWarning: tight_layout : falling back to Agg renderer\n",
      "  # Remove the CWD from sys.path while we load stuff.\n"
     ]
    },
    {
     "data": {
      "image/png": "[encoded data removed]",
      "text/plain": [
       "<Figure size 720x360 with 2 Axes>"
      ]
     },
     "execution_count": 112,
     "metadata": {},
     "output_type": "execute_result"
    }
   ],
   "source": [
    "fig = figure.Figure(figsize=(10, 5))\n",
    "ax = fig.add_subplot(1, 3, 1)\n",
    "ax.imshow(sample.squeeze(axis=2), interpolation='None')\n",
    "ax = fig.add_subplot(1, 3, 2)\n",
    "for prob in probabilities:\n",
    "    sns.barplot(np.arange(10), prob[0, :], alpha=0.1, ax=ax)\n",
    "    ax.set_ylim([0, 1])\n",
    "ax.set_title('posterior samples');\n",
    "\n",
    "fig.tight_layout()\n",
    "fig"
   ]
  },
  {
   "cell_type": "code",
   "execution_count": null,
   "metadata": {},
   "outputs": [],
   "source": []
  }
 ],
 "metadata": {
  "kernelspec": {
   "display_name": "Python 3",
   "language": "python",
   "name": "python3"
  },
  "language_info": {
   "codemirror_mode": {
    "name": "ipython",
    "version": 3
   },
   "file_extension": ".py",
   "mimetype": "text/x-python",
   "name": "python",
   "nbconvert_exporter": "python",
   "pygments_lexer": "ipython3",
   "version": "3.7.3"
  }
 },
 "nbformat": 4,
 "nbformat_minor": 4
}
