{
 "cells": [
  {
   "cell_type": "markdown",
   "metadata": {},
   "source": [
    "# MNIST Conditional Generative Adversarial Networks\n",
    "Implementation of vanilla Conditional GAN on MNIST dataset.\n",
    "\n",
    "#### Losses\n",
    "* Discriminator Loss\n",
    "* Generator Loss\n",
    "\n",
    "The discriminator will induce the generator to produce samples similar to the real samples but conditioned on a specific class.\n",
    "\n",
    "#### Changes\n",
    "In order to make the GAN conditioned you need to concatenate the label (one-hot or embedding) on the Generator random signal, and on the discriminator input.\n",
    "\n",
    "#### References\n",
    "* [Paper](https://arxiv.org/pdf/1411.1784.pdf)\n",
    "* [Tensorflow Code](http://i-systems.github.io/HSE545/iAI/DL/topics/09_GAN/02_CGAN.html)\n",
    "* [Various GAN Implementation on Pytorch](https://github.com/eriklindernoren/PyTorch-GAN)\n",
    "* [GAN Hacks](https://github.com/soumith/ganhacks)\n",
    "* [Clone and Detach](https://discuss.pytorch.org/t/clone-and-detach-in-v0-4-0/16861/2)"
   ]
  },
  {
   "cell_type": "code",
   "execution_count": 1,
   "metadata": {},
   "outputs": [
    {
     "name": "stdout",
     "output_type": "stream",
     "text": [
      "Device: cuda:0\n",
      "Pytorch version: 1.2.0\n"
     ]
    }
   ],
   "source": [
    "import mnist_data_pytorch as data\n",
    "import matplotlib.pyplot as plt\n",
    "import torch\n",
    "import torch.nn as nn\n",
    "import torch.optim as optim\n",
    "import torch.nn.functional as F\n",
    "from ipywidgets import interact, interactive, fixed, interact_manual\n",
    "import ipywidgets as widgets\n",
    "import numpy as np\n",
    "from tqdm import tqdm\n",
    "device = torch.device(\"cuda:0\" if torch.cuda.is_available() else \"cpu\")\n",
    "print('Device:', device)\n",
    "print('Pytorch version:', torch.__version__)\n",
    "# Tensorboard\n",
    "from torch.utils.tensorboard import SummaryWriter\n",
    "!rm -rf ./runs\n",
    "writer = SummaryWriter('./runs/train')\n",
    "\n",
    "# Metaparameters\n",
    "num_epochs = 100\n",
    "num_classes = 10\n",
    "latent_size = 64\n",
    "gen_lr = 0.0002\n",
    "disc_lr = 0.0002\n",
    "EPS = 1e-15"
   ]
  },
  {
   "cell_type": "markdown",
   "metadata": {},
   "source": [
    "#### Function to convert to One-Hot"
   ]
  },
  {
   "cell_type": "code",
   "execution_count": 2,
   "metadata": {},
   "outputs": [
    {
     "name": "stdout",
     "output_type": "stream",
     "text": [
      "1: one-hot tensor([0., 1., 0., 0., 0., 0., 0., 0., 0., 0.])\n",
      "9: one-hot tensor([0., 0., 0., 0., 0., 0., 0., 0., 0., 1.])\n"
     ]
    }
   ],
   "source": [
    "def one_hot(labels, num_classes=10):\n",
    "    \"\"\"\n",
    "    Convert labels to one_hot_encoding\n",
    "    \"\"\"\n",
    "    # Convert to One Hot Encoding\n",
    "    y = torch.eye(num_classes)\n",
    "    return y[labels]\n",
    "\n",
    "print('1: one-hot', one_hot(1))\n",
    "print('9: one-hot', one_hot(9))"
   ]
  },
  {
   "cell_type": "markdown",
   "metadata": {},
   "source": [
    "#### Define Encoder/Decoder/Discriminator"
   ]
  },
  {
   "cell_type": "code",
   "execution_count": 3,
   "metadata": {},
   "outputs": [],
   "source": [
    "class Generator(nn.Module):\n",
    "    def __init__(self, latent_size=100, output_size=784, num_classes=10):\n",
    "        super(Generator, self).__init__()\n",
    "\n",
    "        def block(in_feat, out_feat, normalize=True):\n",
    "            layers = [nn.Linear(in_feat, out_feat)]\n",
    "            if normalize:\n",
    "                layers.append(nn.BatchNorm1d(out_feat, 0.8))\n",
    "            layers.append(nn.LeakyReLU(0.2, inplace=True))\n",
    "            return layers\n",
    "\n",
    "        self.model = nn.Sequential(\n",
    "            *block(latent_size + num_classes, 256, normalize=False),\n",
    "            *block(256, 256),\n",
    "            nn.Linear(256, output_size),\n",
    "            #nn.Tanh()\n",
    "            nn.Sigmoid() #Sigmoid bit better for MNIST\n",
    "        )\n",
    "\n",
    "    def forward(self, z, y):\n",
    "        # Concatenate labels(one-hot) to Z\n",
    "        # We could also use nn.embedding to make the labels conversion\n",
    "        x = torch.cat((y, z), 1)\n",
    "        x = self.model(x)\n",
    "        return x\n",
    "\n",
    "\n",
    "class Discriminator(nn.Module):\n",
    "    def __init__(self, input_size=784, num_classes=10):\n",
    "        super(Discriminator, self).__init__()\n",
    "\n",
    "        self.model = nn.Sequential(\n",
    "            nn.Linear(input_size + num_classes, 256),\n",
    "            nn.LeakyReLU(0.2, inplace=True),\n",
    "            nn.Linear(256, 256),\n",
    "            nn.LeakyReLU(0.2, inplace=True),\n",
    "            nn.Linear(256, 1),\n",
    "            nn.Sigmoid(),\n",
    "        )\n",
    "\n",
    "    def forward(self, x, y):\n",
    "        # Concatenate labels(one-hot) to X (real, or generated)\n",
    "        # We could also use nn.embedding to make the labels conversion\n",
    "        x = torch.cat((y, x), 1)\n",
    "        real_or_fake = self.model(x)\n",
    "        return real_or_fake\n",
    "\n",
    "# Initialize Networks\n",
    "G = Generator(output_size=784, latent_size=latent_size).to(device)\n",
    "D = Discriminator(input_size=784).to(device)"
   ]
  },
  {
   "cell_type": "markdown",
   "metadata": {},
   "source": [
    "#### Initialize Optimizers"
   ]
  },
  {
   "cell_type": "code",
   "execution_count": 4,
   "metadata": {},
   "outputs": [],
   "source": [
    "optim_generator = torch.optim.Adam(G.parameters(), lr=gen_lr)\n",
    "optim_discriminator = torch.optim.Adam(D.parameters(), lr=disc_lr)"
   ]
  },
  {
   "cell_type": "markdown",
   "metadata": {},
   "source": [
    "#### Train loop"
   ]
  },
  {
   "cell_type": "code",
   "execution_count": 5,
   "metadata": {},
   "outputs": [
    {
     "name": "stderr",
     "output_type": "stream",
     "text": [
      "100%|██████████| 100/100 [09:25<00:00,  5.66s/it]\n"
     ]
    }
   ],
   "source": [
    "k = 1\n",
    "for epoch in tqdm(range(num_epochs)):\n",
    "    running_loss_G = 0.0\n",
    "    running_loss_D = 0.0\n",
    "    # Iterate over the data\n",
    "    for idx_sample, (real_imgs, labels) in enumerate(data.dataloaders['train']):\n",
    "        real_imgs = real_imgs.to(device)\n",
    "        real_imgs = torch.flatten(real_imgs, start_dim=1, end_dim=-1)\n",
    "        labels = labels.to(device)\n",
    "        # Convert y to one-hot and send to GPU\n",
    "        y = one_hot(labels)\n",
    "        y = y.to(device)\n",
    "        batch_size = real_imgs.size()[0]\n",
    "        \n",
    "        # ---------------------\n",
    "        #  Train Discriminator\n",
    "        # ---------------------\n",
    "        for _ in range(k):\n",
    "            # Adversarial ground truths (you can do soft-label here....)\n",
    "            valid = (torch.ones(batch_size, 1).fill_(1.0)).to(device)\n",
    "            fake = (torch.ones(batch_size, 1).fill_(0.0)).to(device)\n",
    "            \n",
    "            z_sample = torch.randn(batch_size, latent_size).to(device)\n",
    "\n",
    "            # Detach will make a copy and take the tensor out of the backprop graph.\n",
    "            gen_samples = G(z_sample,y).detach()\n",
    "            \n",
    "            optim_discriminator.zero_grad()\n",
    "            # Measure discriminator's ability to classify real from generated samples\n",
    "            real_loss = F.binary_cross_entropy(D(real_imgs, y), valid)\n",
    "            fake_loss = F.binary_cross_entropy(D(gen_samples, y), fake)\n",
    "            d_loss = (real_loss + fake_loss) / 2\n",
    "\n",
    "            d_loss.backward()\n",
    "            optim_discriminator.step()\n",
    "        \n",
    "        # ---------------------\n",
    "        #  Train Generator\n",
    "        # ---------------------\n",
    "        optim_generator.zero_grad()\n",
    "        # Sample from distribution Z (z~Z)\n",
    "        z_sample = torch.randn(batch_size, latent_size).to(device)\n",
    "\n",
    "        # Loss measures generator's ability to fool the discriminator\n",
    "        gen_samples = G(z_sample, y)\n",
    "        g_loss = F.binary_cross_entropy(D(gen_samples, y), valid)\n",
    "\n",
    "        g_loss.backward()\n",
    "        optim_generator.step()\n",
    "        \n",
    "        # Update statistics\n",
    "        running_loss_G += g_loss.item() * batch_size\n",
    "        # Update statistics\n",
    "        running_loss_D += d_loss.item() * batch_size\n",
    "    \n",
    "    # Epoch ends\n",
    "    epoch_loss_generator = running_loss_G / len(data.dataloaders['train'].dataset)\n",
    "    epoch_loss_discriminator = running_loss_D / len(data.dataloaders['train'].dataset)\n",
    "    \n",
    "    # Send results to tensorboard\n",
    "    writer.add_scalar('train/loss_generator', epoch_loss_generator, epoch)\n",
    "    writer.add_scalar('train/loss_discriminator', epoch_loss_discriminator, epoch)\n",
    "    \n",
    "    # Send images to tensorboard\n",
    "    writer.add_images('train/gen_samples', gen_samples.view(batch_size,1,28,28), epoch)\n",
    "    writer.add_images('train/input_images', real_imgs.view(batch_size,1,28,28), epoch)\n",
    "    \n",
    "    # Send latent to tensorboard\n",
    "    writer.add_histogram('train/latent', z_sample, epoch)\n",
    "    writer.add_histogram('train/X', real_imgs, epoch)\n",
    "    writer.add_histogram('train/G(z)', gen_samples, epoch)"
   ]
  },
  {
   "cell_type": "markdown",
   "metadata": {},
   "source": [
    "#### Generate Samples (Unconditioned)\n",
    "Observe that the generated samples are somehow a mix of all classes."
   ]
  },
  {
   "cell_type": "code",
   "execution_count": 6,
   "metadata": {},
   "outputs": [],
   "source": [
    "def generate_sample(num_idx=0, category=0):\n",
    "    G.eval()\n",
    "    y = one_hot([category]).to(device)\n",
    "    z = torch.randn(1, latent_size).to(device)\n",
    "    with torch.no_grad(): \n",
    "        generated_sample = G(z,y)\n",
    "\n",
    "    plt.imshow(generated_sample.view(28,28).cpu().numpy())\n",
    "    plt.title('Generated sample')\n",
    "    plt.show()"
   ]
  },
  {
   "cell_type": "code",
   "execution_count": 8,
   "metadata": {},
   "outputs": [
    {
     "data": {
      "application/vnd.jupyter.widget-view+json": {
       "model_id": "a9efcdb499c64a26a6796e4e93ce48fa",
       "version_major": 2,
       "version_minor": 0
      },
      "text/plain": [
       "interactive(children=(IntSlider(value=0, description='num_idx'), Dropdown(description='category', options=(0, …"
      ]
     },
     "metadata": {},
     "output_type": "display_data"
    }
   ],
   "source": [
    "interact(generate_sample, num_idx=widgets.IntSlider(min=0, max=100, step=1, value=0), category = [x for x in range(10)]);"
   ]
  },
  {
   "cell_type": "code",
   "execution_count": 10,
   "metadata": {},
   "outputs": [
    {
     "data": {
      "image/png": "[encoded data removed]",
      "text/plain": [
       "<Figure size 432x288 with 1 Axes>"
      ]
     },
     "metadata": {
      "needs_background": "light"
     },
     "output_type": "display_data"
    }
   ],
   "source": [
    "generate_sample(0,3)"
   ]
  },
  {
   "cell_type": "code",
   "execution_count": 11,
   "metadata": {},
   "outputs": [
    {
     "data": {
      "image/png": "[encoded data removed]",
      "text/plain": [
       "<Figure size 432x288 with 1 Axes>"
      ]
     },
     "metadata": {
      "needs_background": "light"
     },
     "output_type": "display_data"
    }
   ],
   "source": [
    "generate_sample(0,8)"
   ]
  }
 ],
 "metadata": {
  "kernelspec": {
   "display_name": "Python 3",
   "language": "python",
   "name": "python3"
  },
  "language_info": {
   "codemirror_mode": {
    "name": "ipython",
    "version": 3
   },
   "file_extension": ".py",
   "mimetype": "text/x-python",
   "name": "python",
   "nbconvert_exporter": "python",
   "pygments_lexer": "ipython3",
   "version": "3.7.3"
  }
 },
 "nbformat": 4,
 "nbformat_minor": 4
}
