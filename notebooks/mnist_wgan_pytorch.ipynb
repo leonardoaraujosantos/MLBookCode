{
 "cells": [
  {
   "cell_type": "markdown",
   "metadata": {},
   "source": [
    "# MNIST WGAN\n",
    "Implementation of first version of the vanilla WGAN on MNIST dataset.\n",
    "\n",
    "#### Losses\n",
    "* Discriminator Loss\n",
    "* Generator Loss\n",
    "\n",
    "The discriminator will induce the generator to produce samples similar to the real samples.\n",
    "\n",
    "#### References\n",
    "* [Paper](https://arxiv.org/abs/1701.07875)\n",
    "* [Code](https://github.com/eriklindernoren/PyTorch-GAN/blob/master/implementations/wgan/wgan.py)\n",
    "* [Various GAN Implementation on Pytorch](https://github.com/eriklindernoren/PyTorch-GAN)"
   ]
  },
  {
   "cell_type": "code",
   "execution_count": 1,
   "metadata": {},
   "outputs": [
    {
     "name": "stdout",
     "output_type": "stream",
     "text": [
      "Device: cuda:0\n",
      "Pytorch version: 1.2.0\n"
     ]
    }
   ],
   "source": [
    "import mnist_data_pytorch as data\n",
    "import matplotlib.pyplot as plt\n",
    "import torch\n",
    "import torch.nn as nn\n",
    "import torch.optim as optim\n",
    "import torch.nn.functional as F\n",
    "from ipywidgets import interact, interactive, fixed, interact_manual\n",
    "import ipywidgets as widgets\n",
    "import numpy as np\n",
    "from tqdm import tqdm\n",
    "device = torch.device(\"cuda:0\" if torch.cuda.is_available() else \"cpu\")\n",
    "print('Device:', device)\n",
    "print('Pytorch version:', torch.__version__)\n",
    "# Tensorboard\n",
    "from torch.utils.tensorboard import SummaryWriter\n",
    "!rm -rf ./runs\n",
    "writer = SummaryWriter('./runs/train')\n",
    "\n",
    "# Metaparameters\n",
    "num_epochs = 100\n",
    "num_classes = 10\n",
    "latent_size = 64\n",
    "gen_lr = 0.00005\n",
    "disc_lr = 0.00005\n",
    "EPS = 1e-15\n",
    "clip_value = 0.01"
   ]
  },
  {
   "cell_type": "markdown",
   "metadata": {},
   "source": [
    "#### Define Encoder/Decoder/Discriminator"
   ]
  },
  {
   "cell_type": "code",
   "execution_count": 2,
   "metadata": {},
   "outputs": [],
   "source": [
    "class Generator(nn.Module):\n",
    "    def __init__(self, latent_size=100, output_size=784):\n",
    "        super(Generator, self).__init__()\n",
    "\n",
    "        def block(in_feat, out_feat, normalize=True):\n",
    "            layers = [nn.Linear(in_feat, out_feat)]\n",
    "            if normalize:\n",
    "                layers.append(nn.BatchNorm1d(out_feat, 0.8))\n",
    "            layers.append(nn.LeakyReLU(0.2, inplace=True))\n",
    "            return layers\n",
    "\n",
    "        self.model = nn.Sequential(\n",
    "            *block(latent_size, 256, normalize=False),\n",
    "            *block(256, 256),\n",
    "            nn.Linear(256, output_size),\n",
    "            #nn.Tanh()\n",
    "            nn.Sigmoid() #Sigmoid bit better for MNIST\n",
    "        )\n",
    "\n",
    "    def forward(self, z):\n",
    "        x = self.model(z)\n",
    "        return x\n",
    "\n",
    "\n",
    "class Discriminator(nn.Module):\n",
    "    def __init__(self, input_size=784):\n",
    "        super(Discriminator, self).__init__()\n",
    "\n",
    "        self.model = nn.Sequential(\n",
    "            nn.Linear(input_size, 256),\n",
    "            nn.LeakyReLU(0.2, inplace=True),\n",
    "            nn.Linear(256, 256),\n",
    "            nn.LeakyReLU(0.2, inplace=True),\n",
    "            nn.Linear(256, 1),\n",
    "        )\n",
    "\n",
    "    def forward(self, x):\n",
    "        real_or_fake = self.model(x)\n",
    "        return real_or_fake\n",
    "\n",
    "# Initialize Networks\n",
    "G = Generator(output_size=784, latent_size=latent_size).to(device)\n",
    "D = Discriminator(input_size=784).to(device)"
   ]
  },
  {
   "cell_type": "markdown",
   "metadata": {},
   "source": [
    "#### Initialize Optimizers\n",
    "On the paper they used RMSProp"
   ]
  },
  {
   "cell_type": "code",
   "execution_count": 3,
   "metadata": {},
   "outputs": [],
   "source": [
    "optim_generator = torch.optim.RMSProp(G.parameters(), lr=gen_lr)\n",
    "optim_discriminator = torch.optim.RMSProp(D.parameters(), lr=disc_lr)"
   ]
  },
  {
   "cell_type": "markdown",
   "metadata": {},
   "source": [
    "#### Train loop"
   ]
  },
  {
   "cell_type": "code",
   "execution_count": 4,
   "metadata": {},
   "outputs": [
    {
     "name": "stderr",
     "output_type": "stream",
     "text": [
      "100%|██████████| 100/100 [09:13<00:00,  5.53s/it]\n"
     ]
    }
   ],
   "source": [
    "k = 1\n",
    "for epoch in tqdm(range(num_epochs)):\n",
    "    running_loss_G = 0.0\n",
    "    running_loss_D = 0.0\n",
    "    # Iterate over the data\n",
    "    for idx_sample, (real_imgs, _) in enumerate(data.dataloaders['train']):\n",
    "        real_imgs = real_imgs.to(device)\n",
    "        real_imgs = torch.flatten(real_imgs, start_dim=1, end_dim=-1)\n",
    "        batch_size = real_imgs.size()[0]\n",
    "        \n",
    "        # ---------------------\n",
    "        #  Train Discriminator\n",
    "        # ---------------------\n",
    "        for _ in range(k):\n",
    "            # Adversarial ground truths (you can do soft-label here....)\n",
    "            valid = (torch.ones(batch_size, 1).fill_(1.0)).to(device)\n",
    "            fake = (torch.ones(batch_size, 1).fill_(0.0)).to(device)\n",
    "            # Generate samples from random noise\n",
    "            z_sample = torch.randn(batch_size, latent_size).to(device)\n",
    "            gen_samples = G(z_sample)\n",
    "            optim_discriminator.zero_grad()\n",
    "            # Simple WGAN Loss for discriminator\n",
    "            d_loss = -torch.mean(D(real_imgs)) + torch.mean(D(gen_samples.detach()))\n",
    "\n",
    "            d_loss.backward()\n",
    "            optim_discriminator.step()\n",
    "            \n",
    "            # Clip weights of discriminator (Enforce 1-Lipschitz)\n",
    "            for p in discriminator.parameters():\n",
    "                p.data.clamp_(-clip_value, clip_value)\n",
    "        \n",
    "        # ---------------------\n",
    "        #  Train Generator\n",
    "        # ---------------------\n",
    "        optim_generator.zero_grad()\n",
    "        # Sample from distribution Z (z~Z)\n",
    "        z_sample = torch.randn(batch_size, latent_size).to(device)\n",
    "\n",
    "        # Loss measures generator's ability to fool the discriminator\n",
    "        gen_samples = G(z_sample)\n",
    "        # Simple WGAN Loss for generator\n",
    "        g_loss = -torch.mean(D(gen_samples))\n",
    "\n",
    "        g_loss.backward()\n",
    "        optim_generator.step()\n",
    "        \n",
    "        # Update statistics\n",
    "        running_loss_G += g_loss.item() * batch_size\n",
    "        # Update statistics\n",
    "        running_loss_D += d_loss.item() * batch_size\n",
    "    \n",
    "    # Epoch ends\n",
    "    epoch_loss_generator = running_loss_G / len(data.dataloaders['train'].dataset)\n",
    "    epoch_loss_discriminator = running_loss_D / len(data.dataloaders['train'].dataset)\n",
    "    \n",
    "    # Send results to tensorboard\n",
    "    writer.add_scalar('train/loss_generator', epoch_loss_generator, epoch)\n",
    "    writer.add_scalar('train/loss_discriminator', epoch_loss_discriminator, epoch)\n",
    "    \n",
    "    # Send images to tensorboard\n",
    "    writer.add_images('train/gen_samples', gen_samples.view(batch_size,1,28,28), epoch)\n",
    "    writer.add_images('train/input_images', real_imgs.view(batch_size,1,28,28), epoch)\n",
    "    \n",
    "    # Send latent to tensorboard\n",
    "    writer.add_histogram('train/latent', z_sample, epoch)\n",
    "    writer.add_histogram('train/X', real_imgs, epoch)\n",
    "    writer.add_histogram('train/G(z)', gen_samples, epoch)"
   ]
  },
  {
   "cell_type": "markdown",
   "metadata": {},
   "source": [
    "#### Generate Samples (Unconditioned)\n",
    "Observe that the generated samples are somehow a mix of all classes."
   ]
  },
  {
   "cell_type": "code",
   "execution_count": 5,
   "metadata": {},
   "outputs": [],
   "source": [
    "def generate_sample(num_idx=0):\n",
    "    G.eval()\n",
    "    \n",
    "    z = torch.randn(1, latent_size).to(device)\n",
    "    with torch.no_grad(): \n",
    "        generated_sample = G(z)\n",
    "\n",
    "    plt.imshow(generated_sample.view(28,28).cpu().numpy())\n",
    "    plt.title('Generated sample')\n",
    "    plt.show()"
   ]
  },
  {
   "cell_type": "code",
   "execution_count": 6,
   "metadata": {},
   "outputs": [
    {
     "data": {
      "application/vnd.jupyter.widget-view+json": {
       "model_id": "0b149ce05d3445a7b0f696186385872a",
       "version_major": 2,
       "version_minor": 0
      },
      "text/plain": [
       "interactive(children=(IntSlider(value=0, description='num_idx'), Output()), _dom_classes=('widget-interact',))"
      ]
     },
     "metadata": {},
     "output_type": "display_data"
    }
   ],
   "source": [
    "interact(generate_sample, num_idx=widgets.IntSlider(min=0, max=100, step=1, value=0));"
   ]
  }
 ],
 "metadata": {
  "kernelspec": {
   "display_name": "Python 3",
   "language": "python",
   "name": "python3"
  },
  "language_info": {
   "codemirror_mode": {
    "name": "ipython",
    "version": 3
   },
   "file_extension": ".py",
   "mimetype": "text/x-python",
   "name": "python",
   "nbconvert_exporter": "python",
   "pygments_lexer": "ipython3",
   "version": "3.7.3"
  }
 },
 "nbformat": 4,
 "nbformat_minor": 4
}
