{
 "cells": [
  {
   "cell_type": "markdown",
   "metadata": {},
   "source": [
    "# MNIST Deep Convolutional Generative Adversarial Networks\n",
    "Implementation of DCGAN on MNIST dataset.\n",
    "\n",
    "#### Losses\n",
    "* Discriminator Loss\n",
    "* Generator Loss\n",
    "\n",
    "The discriminator will induce the generator to produce samples similar to the real samples.\n",
    "\n",
    "#### References\n",
    "* [Paper](https://arxiv.org/pdf/1406.2661.pdf)\n",
    "* [Code](https://github.com/eriklindernoren/PyTorch-GAN/blob/master/implementations/dcgan/dcgan.py)\n",
    "* [Various GAN Implementation on Pytorch](https://github.com/eriklindernoren/PyTorch-GAN)\n",
    "* [DCGAN Implementation](https://pytorch.org/tutorials/beginner/dcgan_faces_tutorial.html)\n",
    "* [GAN Hacks](https://github.com/soumith/ganhacks)\n",
    "* [Clone and Detach](https://discuss.pytorch.org/t/clone-and-detach-in-v0-4-0/16861/2)\n",
    "* [Training GANs](https://www.youtube.com/watch?v=X1mUN6dD8uE)"
   ]
  },
  {
   "cell_type": "code",
   "execution_count": 1,
   "metadata": {},
   "outputs": [
    {
     "name": "stdout",
     "output_type": "stream",
     "text": [
      "Device: cuda:0\n",
      "Pytorch version: 1.2.0\n"
     ]
    }
   ],
   "source": [
    "import mnist_data_pytorch as data\n",
    "import matplotlib.pyplot as plt\n",
    "import torch\n",
    "import torch.nn as nn\n",
    "import torch.optim as optim\n",
    "import torch.nn.functional as F\n",
    "from ipywidgets import interact, interactive, fixed, interact_manual\n",
    "import ipywidgets as widgets\n",
    "import numpy as np\n",
    "from tqdm import tqdm\n",
    "device = torch.device(\"cuda:0\" if torch.cuda.is_available() else \"cpu\")\n",
    "print('Device:', device)\n",
    "print('Pytorch version:', torch.__version__)\n",
    "# Tensorboard\n",
    "from torch.utils.tensorboard import SummaryWriter\n",
    "!rm -rf ./runs\n",
    "writer = SummaryWriter('./runs/train')\n",
    "\n",
    "# Metaparameters\n",
    "num_epochs = 100\n",
    "num_classes = 10\n",
    "latent_size = 64\n",
    "gen_lr = 0.0002\n",
    "disc_lr = 0.0002\n",
    "EPS = 1e-15"
   ]
  },
  {
   "cell_type": "markdown",
   "metadata": {},
   "source": [
    "#### Define Encoder/Decoder/Discriminator"
   ]
  },
  {
   "cell_type": "code",
   "execution_count": 2,
   "metadata": {},
   "outputs": [],
   "source": [
    "class Generator(nn.Module):\n",
    "    def __init__(self, latent_size=100, img_size=28, channels=1):\n",
    "        super(Generator, self).__init__()\n",
    "        \n",
    "        # Used to make z_sample larger to fit a 2d activation map\n",
    "        self.init_size = img_size // 4\n",
    "        self.l1 = nn.Sequential(nn.Linear(latent_size, 128 * self.init_size ** 2))\n",
    "\n",
    "        self.convs = nn.Sequential(\n",
    "            nn.BatchNorm2d(128),\n",
    "            nn.Upsample(scale_factor=2),\n",
    "            nn.Conv2d(128, 128, 3, stride=1, padding=1),\n",
    "            nn.BatchNorm2d(128, 0.8),\n",
    "            nn.LeakyReLU(0.2, inplace=True),\n",
    "            nn.Upsample(scale_factor=2),\n",
    "            nn.Conv2d(128, 64, 3, stride=1, padding=1),\n",
    "            nn.BatchNorm2d(64, 0.8),\n",
    "            nn.LeakyReLU(0.2, inplace=True),\n",
    "            nn.Conv2d(64, channels, 3, stride=1, padding=1),\n",
    "            #nn.Tanh()\n",
    "            nn.Sigmoid() #Sigmoid bit better for MNIST\n",
    "        )\n",
    "\n",
    "    def forward(self, z):\n",
    "        batch_size = z.shape[0]\n",
    "        x = self.l1(z)\n",
    "        # Reshape activation to 2d map\n",
    "        x = x.view(batch_size, 128, self.init_size, self.init_size)\n",
    "        x = self.convs(x)\n",
    "        return x\n",
    "\n",
    "\n",
    "class Discriminator(nn.Module):\n",
    "    def __init__(self, channels=1, img_size=28):\n",
    "        super(Discriminator, self).__init__()\n",
    "        \n",
    "        def discriminator_block(in_filters, out_filters, bn=True):\n",
    "            block = [nn.Conv2d(in_filters, out_filters, 3, 2, 1), nn.LeakyReLU(0.2, inplace=True), nn.Dropout2d(0.25)]\n",
    "            if bn:\n",
    "                block.append(nn.BatchNorm2d(out_filters, 0.8))\n",
    "            return block\n",
    "\n",
    "        self.model = nn.Sequential(\n",
    "            *discriminator_block(channels, 16, bn=False),\n",
    "            *discriminator_block(16, 32),\n",
    "            *discriminator_block(32, 64),\n",
    "            *discriminator_block(64, 128),\n",
    "        )\n",
    "        \n",
    "        self.adv_layer = nn.Sequential(nn.Linear(512, 1), nn.Sigmoid())\n",
    "\n",
    "    def forward(self, x):\n",
    "        batch_size = x.shape[0]\n",
    "        x = self.model(x)\n",
    "        x = x.view(batch_size, -1)\n",
    "        real_or_fake = self.adv_layer(x)\n",
    "        return real_or_fake\n",
    "\n",
    "# Initialize Networks\n",
    "G = Generator(latent_size=latent_size).to(device)\n",
    "D = Discriminator().to(device)"
   ]
  },
  {
   "cell_type": "markdown",
   "metadata": {},
   "source": [
    "#### Initialize Optimizers"
   ]
  },
  {
   "cell_type": "code",
   "execution_count": 3,
   "metadata": {},
   "outputs": [],
   "source": [
    "optim_generator = torch.optim.Adam(G.parameters(), lr=gen_lr)\n",
    "optim_discriminator = torch.optim.Adam(D.parameters(), lr=disc_lr)"
   ]
  },
  {
   "cell_type": "markdown",
   "metadata": {},
   "source": [
    "#### Train loop"
   ]
  },
  {
   "cell_type": "code",
   "execution_count": null,
   "metadata": {},
   "outputs": [
    {
     "name": "stderr",
     "output_type": "stream",
     "text": [
      " 79%|███████▉  | 79/100 [20:29<05:24, 15.47s/it]"
     ]
    }
   ],
   "source": [
    "k = 1\n",
    "for epoch in tqdm(range(num_epochs)):\n",
    "    running_loss_G = 0.0\n",
    "    running_loss_D = 0.0\n",
    "    # Iterate over the data\n",
    "    for idx_sample, (real_imgs, _) in enumerate(data.dataloaders['train']):\n",
    "        real_imgs = real_imgs.to(device)\n",
    "        batch_size = real_imgs.size()[0]\n",
    "        \n",
    "        # ---------------------\n",
    "        #  Train Discriminator\n",
    "        # ---------------------\n",
    "        for _ in range(k):\n",
    "            # Adversarial ground truths (you can do soft-label here....)\n",
    "            valid = (torch.ones(batch_size, 1).fill_(1.0)).to(device)\n",
    "            fake = (torch.ones(batch_size, 1).fill_(0.0)).to(device)\n",
    "            z_sample = torch.randn(batch_size, latent_size).to(device)\n",
    "\n",
    "            gen_samples = G(z_sample)\n",
    "            optim_discriminator.zero_grad()\n",
    "            # Measure discriminator's ability to classify real from generated samples\n",
    "            real_loss = F.binary_cross_entropy(D(real_imgs), valid)\n",
    "            fake_loss = F.binary_cross_entropy(D(gen_samples.detach()), fake)\n",
    "            d_loss = (real_loss + fake_loss) / 2\n",
    "\n",
    "            d_loss.backward()\n",
    "            optim_discriminator.step()\n",
    "        \n",
    "        # ---------------------\n",
    "        #  Train Generator\n",
    "        # ---------------------\n",
    "        optim_generator.zero_grad()\n",
    "        # Sample from distribution Z (z~Z)\n",
    "        z_sample = torch.randn(batch_size, latent_size).to(device)\n",
    "\n",
    "        # Loss measures generator's ability to fool the discriminator\n",
    "        gen_samples = G(z_sample)\n",
    "        g_loss = F.binary_cross_entropy(D(gen_samples), valid)\n",
    "\n",
    "        g_loss.backward()\n",
    "        optim_generator.step()\n",
    "        \n",
    "        # Update statistics\n",
    "        running_loss_G += g_loss.item() * batch_size\n",
    "        # Update statistics\n",
    "        running_loss_D += d_loss.item() * batch_size\n",
    "    \n",
    "    # Epoch ends\n",
    "    epoch_loss_generator = running_loss_G / len(data.dataloaders['train'].dataset)\n",
    "    epoch_loss_discriminator = running_loss_D / len(data.dataloaders['train'].dataset)\n",
    "    \n",
    "    # Send results to tensorboard\n",
    "    writer.add_scalar('train/loss_generator', epoch_loss_generator, epoch)\n",
    "    writer.add_scalar('train/loss_discriminator', epoch_loss_discriminator, epoch)\n",
    "    \n",
    "    # Send images to tensorboard\n",
    "    writer.add_images('train/gen_samples', gen_samples.view(batch_size,1,28,28), epoch)\n",
    "    writer.add_images('train/input_images', real_imgs.view(batch_size,1,28,28), epoch)\n",
    "    \n",
    "    # Send latent to tensorboard\n",
    "    writer.add_histogram('train/latent', z_sample, epoch)\n",
    "    writer.add_histogram('train/X', real_imgs, epoch)\n",
    "    writer.add_histogram('train/G(z)', gen_samples, epoch)"
   ]
  },
  {
   "cell_type": "markdown",
   "metadata": {},
   "source": [
    "#### Generate Samples (Unconditioned)\n",
    "Observe that the generated samples are somehow a mix of all classes."
   ]
  },
  {
   "cell_type": "code",
   "execution_count": null,
   "metadata": {},
   "outputs": [],
   "source": [
    "def generate_sample(num_idx=0):\n",
    "    G.eval()\n",
    "    \n",
    "    z = torch.randn(1, latent_size).to(device)\n",
    "    with torch.no_grad(): \n",
    "        generated_sample = G(z)\n",
    "\n",
    "    plt.imshow(generated_sample.view(28,28).cpu().numpy())\n",
    "    plt.title('Generated sample')\n",
    "    plt.show()"
   ]
  },
  {
   "cell_type": "code",
   "execution_count": null,
   "metadata": {},
   "outputs": [],
   "source": [
    "interact(generate_sample, num_idx=widgets.IntSlider(min=0, max=100, step=1, value=0));"
   ]
  }
 ],
 "metadata": {
  "kernelspec": {
   "display_name": "Python 3",
   "language": "python",
   "name": "python3"
  },
  "language_info": {
   "codemirror_mode": {
    "name": "ipython",
    "version": 3
   },
   "file_extension": ".py",
   "mimetype": "text/x-python",
   "name": "python",
   "nbconvert_exporter": "python",
   "pygments_lexer": "ipython3",
   "version": "3.7.3"
  }
 },
 "nbformat": 4,
 "nbformat_minor": 4
}
